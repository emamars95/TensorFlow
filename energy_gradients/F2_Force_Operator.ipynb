{
 "cells": [
  {
   "cell_type": "code",
   "execution_count": 1,
   "metadata": {},
   "outputs": [
    {
     "ename": "ModuleNotFoundError",
     "evalue": "No module named 'pyscf'",
     "output_type": "error",
     "traceback": [
      "\u001b[0;31m---------------------------------------------------------------------------\u001b[0m",
      "\u001b[0;31mModuleNotFoundError\u001b[0m                       Traceback (most recent call last)",
      "\u001b[0;32m<ipython-input-1-b20b4139a085>\u001b[0m in \u001b[0;36m<module>\u001b[0;34m\u001b[0m\n\u001b[0;32m----> 1\u001b[0;31m \u001b[0;32mimport\u001b[0m \u001b[0mpyscf\u001b[0m\u001b[0;34m\u001b[0m\u001b[0;34m\u001b[0m\u001b[0m\n\u001b[0m\u001b[1;32m      2\u001b[0m \u001b[0;32mfrom\u001b[0m \u001b[0mpyscf\u001b[0m \u001b[0;32mimport\u001b[0m \u001b[0mmcscf\u001b[0m\u001b[0;34m\u001b[0m\u001b[0;34m\u001b[0m\u001b[0m\n\u001b[1;32m      3\u001b[0m \u001b[0;32mimport\u001b[0m \u001b[0mscipy\u001b[0m\u001b[0;34m.\u001b[0m\u001b[0msparse\u001b[0m\u001b[0;34m\u001b[0m\u001b[0;34m\u001b[0m\u001b[0m\n\u001b[1;32m      4\u001b[0m \u001b[0;32mimport\u001b[0m \u001b[0mopenfermion\u001b[0m \u001b[0;32mas\u001b[0m \u001b[0mof\u001b[0m\u001b[0;34m\u001b[0m\u001b[0;34m\u001b[0m\u001b[0m\n\u001b[1;32m      5\u001b[0m \u001b[0;32mimport\u001b[0m \u001b[0mnumpy\u001b[0m \u001b[0;32mas\u001b[0m \u001b[0mnp\u001b[0m\u001b[0;34m\u001b[0m\u001b[0;34m\u001b[0m\u001b[0m\n",
      "\u001b[0;31mModuleNotFoundError\u001b[0m: No module named 'pyscf'"
     ]
    }
   ],
   "source": [
    "import pyscf\n",
    "from pyscf import mcscf\n",
    "import scipy.sparse\n",
    "import openfermion as of\n",
    "import numpy as np\n",
    "from openfermionpyscf._run_pyscf import run_pyscf\n",
    "from force_utility import gradient_mo_operator, get_lih, get_hf_fd\n",
    "%load_ext autoreload\n",
    "%autoreload 2"
   ]
  },
  {
   "cell_type": "markdown",
   "metadata": {
    "tags": []
   },
   "source": [
    "# The Hellman-Feynman force operator\n",
    "The Hellman-Feynman can be found as the derivative of the Hamiltonian matrix elements with respect to the position. We will use the example of $LiH$ and obtain the operator through finite differences and analytical derivation. "
   ]
  },
  {
   "cell_type": "code",
   "execution_count": 6,
   "metadata": {},
   "outputs": [
    {
     "name": "stdout",
     "output_type": "stream",
     "text": [
      "converged SCF energy = -7.8605386610207\n",
      "converged SCF energy = -7.8605386610207\n",
      "converged SCF energy = -7.8605386610207\n",
      "converged SCF energy = -7.8605386610207\n",
      "converged SCF energy = -7.8605386610207\n",
      "converged SCF energy = -7.8605386610207\n",
      "FCI energy is -7.878453652277172\n"
     ]
    }
   ],
   "source": [
    "coords = [0, 0, 0, 0, 0, 1.4]\n",
    "#coords = [0, 0, 0, 0, 1.4, 1.4]/np.sqrt(2)\n",
    "delta = 1e-5\n",
    "occ = None\n",
    "act= None\n",
    "mol = get_lih(coords,'sto-3g')\n",
    "h = of.transforms.jordan_wigner(mol.get_molecular_hamiltonian(occupied_indices=occ,active_indices=act))\n",
    "eig, eigv = scipy.sparse.linalg.eigsh(of.get_sparse_operator(h), k=1, which='SA') \n",
    "f = get_hf_fd(coords, delta, 'sto-3g', occupied=occ, active=act)\n",
    "print(\"FCI energy is {}\".format(eig[0]))"
   ]
  },
  {
   "cell_type": "markdown",
   "metadata": {},
   "source": [
    "What can you tell about the difference between the number of terms in the Hamiltonian and forces? How many Pauli-words do they have in common? What does that mean for the measurements?"
   ]
  },
  {
   "cell_type": "code",
   "execution_count": 7,
   "metadata": {},
   "outputs": [
    {
     "name": "stdout",
     "output_type": "stream",
     "text": [
      "Number of pauli-words in the hamiltonian: 631\n",
      "Number of pauli-words in the force: 897\n",
      "Number of pauli-words in common with hamiltonian 1\n",
      "Number of pauli-words in the force: 897\n",
      "Number of pauli-words in common with hamiltonian 1\n",
      "Number of pauli-words in the force: 621\n",
      "Number of pauli-words in common with hamiltonian 621\n",
      "Number of pauli-words in the force: 897\n",
      "Number of pauli-words in common with hamiltonian 1\n",
      "Number of pauli-words in the force: 897\n",
      "Number of pauli-words in common with hamiltonian 1\n",
      "Number of pauli-words in the force: 621\n",
      "Number of pauli-words in common with hamiltonian 621\n"
     ]
    }
   ],
   "source": [
    "print(\"Number of pauli-words in the hamiltonian: {}\".format(len(h.terms)))\n",
    "for force in f:\n",
    "    print(\"Number of pauli-words in the force: {}\".format(len(force.terms)))\n",
    "    common = 0\n",
    "    for key in force.terms.keys():\n",
    "        if key in h.terms.keys():\n",
    "            common += 1\n",
    "    print(\"Number of pauli-words in common with hamiltonian {}\".format(common))"
   ]
  },
  {
   "cell_type": "markdown",
   "metadata": {},
   "source": [
    "We can now evaluate this operator with respect to the FCI state. What do you expect for the values of the forces? Will they be equal of different for the different atoms? What with the acceleration?"
   ]
  },
  {
   "cell_type": "code",
   "execution_count": 8,
   "metadata": {},
   "outputs": [
    {
     "name": "stdout",
     "output_type": "stream",
     "text": [
      "Hamiltonian expectation: (-7.87845365227716+4.440892098500626e-16j), Hamiltonian eigenvalue: -7.878453652277172\n",
      "[(8.705475287582261e-16-1.232595164407831e-31j), (-7.505472048578799e-16+0j), (-0.011280097482221882+8.673617379884035e-19j), (-8.705475287582253e-16+9.860761315262648e-32j), (7.505472048578793e-16+1.1832913578315177e-30j), (0.011280097367202285-8.673617379884035e-19j)]\n"
     ]
    }
   ],
   "source": [
    "h_eval= of.expectation(of.get_sparse_operator(h), eigv)\n",
    "f_eval=[]\n",
    "for force in f:\n",
    "    if len(force.terms)==0:\n",
    "        f_eval.append(0.)\n",
    "    else:\n",
    "        f_eval.append(of.expectation(of.get_sparse_operator(force), eigv))\n",
    "print(\"Hamiltonian expectation: {}, Hamiltonian eigenvalue: {}\".format(h_eval,eig[0]))\n",
    "print(f_eval)\n",
    "f_eval = [val.real for val in f_eval]"
   ]
  },
  {
   "cell_type": "markdown",
   "metadata": {},
   "source": [
    "Rotate the geometry by 45 degrees and repeat the excercise. What do you see?"
   ]
  },
  {
   "cell_type": "markdown",
   "metadata": {
    "tags": []
   },
   "source": [
    "# Force operators\n",
    "We will now evaluate the force operators through the analytical formulas both with and without Pulay terms."
   ]
  },
  {
   "cell_type": "code",
   "execution_count": 9,
   "metadata": {},
   "outputs": [
    {
     "name": "stdout",
     "output_type": "stream",
     "text": [
      "converged SCF energy = -7.8605386610207\n"
     ]
    }
   ],
   "source": [
    "oei, tei = mol.get_integrals()\n",
    "mymol = pyscf.gto.Mole(atom=[['Li', tuple(coords[0:3])],\n",
    "                           ['H', tuple(coords[3:6])]],\n",
    "                     basis = 'sto-3g')\n",
    "mymol.build()\n",
    "mf = pyscf.scf.RHF(mymol)\n",
    "mf.kernel()\n",
    "f_op = gradient_mo_operator(mymol, mf.mo_coeff, oei, tei)\n",
    "f_op = [of.transforms.jordan_wigner(force) for force in f_op]\n",
    "f_op_hf = gradient_mo_operator(mymol, mf.mo_coeff, oei, tei, with_pulay=False)\n",
    "f_op_hf = [of.transforms.jordan_wigner(force) for force in f_op_hf]\n"
   ]
  },
  {
   "cell_type": "markdown",
   "metadata": {},
   "source": [
    "We can repeat the same analysis as before to see which terms are shared with the Hamiltonian. What do you notice? What does this mean for the cost of evaluation?\n",
    "\n",
    "Is the Hellman-Feynman operator consistent with the finite differences?"
   ]
  },
  {
   "cell_type": "code",
   "execution_count": 10,
   "metadata": {},
   "outputs": [
    {
     "name": "stdout",
     "output_type": "stream",
     "text": [
      "Number of pauli-words in the hamiltonian: 631\n",
      "Number of pauli-words in the force: 897\n",
      "Number of pauli-words in common with hamiltonian 1\n",
      "Number of pauli-words in the force: 897\n",
      "Number of pauli-words in common with hamiltonian 1\n",
      "Number of pauli-words in the force: 621\n",
      "Number of pauli-words in common with hamiltonian 621\n",
      "Number of pauli-words in the force: 897\n",
      "Number of pauli-words in common with hamiltonian 1\n",
      "Number of pauli-words in the force: 897\n",
      "Number of pauli-words in common with hamiltonian 1\n",
      "Number of pauli-words in the force: 621\n",
      "Number of pauli-words in common with hamiltonian 621\n"
     ]
    }
   ],
   "source": [
    "print(\"Number of pauli-words in the hamiltonian: {}\".format(len(h.terms)))\n",
    "for force in f_op_hf:\n",
    "    print(\"Number of pauli-words in the force: {}\".format(len(force.terms)))\n",
    "    common = 0\n",
    "    large = 0\n",
    "    for key in force.terms.keys():\n",
    "        if key in h.terms.keys():\n",
    "            common += 1\n",
    "    print(\"Number of pauli-words in common with hamiltonian {}\".format(common))"
   ]
  },
  {
   "cell_type": "code",
   "execution_count": 11,
   "metadata": {},
   "outputs": [
    {
     "name": "stdout",
     "output_type": "stream",
     "text": [
      "Number of pauli-words in the hamiltonian: 631\n",
      "Number of pauli-words in the force: 897\n",
      "Number of pauli-words in common with hamiltonian 1\n",
      "Number of pauli-words in the force: 897\n",
      "Number of pauli-words in common with hamiltonian 1\n",
      "Number of pauli-words in the force: 621\n",
      "Number of pauli-words in common with hamiltonian 621\n",
      "Number of pauli-words in the force: 897\n",
      "Number of pauli-words in common with hamiltonian 1\n",
      "Number of pauli-words in the force: 897\n",
      "Number of pauli-words in common with hamiltonian 1\n",
      "Number of pauli-words in the force: 621\n",
      "Number of pauli-words in common with hamiltonian 621\n"
     ]
    }
   ],
   "source": [
    "print(\"Number of pauli-words in the hamiltonian: {}\".format(len(h.terms)))\n",
    "for force in f_op:\n",
    "    print(\"Number of pauli-words in the force: {}\".format(len(force.terms)))\n",
    "    common = 0\n",
    "    for key in force.terms.keys():\n",
    "        if key in h.terms.keys():\n",
    "            common += 1\n",
    "    print(\"Number of pauli-words in common with hamiltonian {}\".format(common))"
   ]
  },
  {
   "cell_type": "markdown",
   "metadata": {},
   "source": [
    "We can now evaluate the force operators with the FCI state."
   ]
  },
  {
   "cell_type": "code",
   "execution_count": 12,
   "metadata": {},
   "outputs": [
    {
     "name": "stdout",
     "output_type": "stream",
     "text": [
      "[(4.60673913253544e-16-3.0814879110195774e-32j), (-3.97172476540298e-16-1.9721522630525295e-31j), (-0.0059691705428689245-4.336808689942018e-19j), (-4.606739132535437e-16-7.549645381997965e-32j), (3.97172476540298e-16+1.9721522630525295e-31j), (0.0059691705428693235+0j)]\n"
     ]
    }
   ],
   "source": [
    "f_op_hf_eval=[]\n",
    "for force in f_op_hf:\n",
    "    if len(force.terms)==0:\n",
    "        f_op_hf_eval.append(0.)\n",
    "    else:\n",
    "        f_op_hf_eval.append(of.expectation(of.get_sparse_operator(force), eigv))\n",
    "print(f_op_hf_eval)\n",
    "f_op_hf_eval = [val.real if np.abs(val) > 1e-8 else 0 for val in f_op_hf_eval]"
   ]
  },
  {
   "cell_type": "code",
   "execution_count": 13,
   "metadata": {},
   "outputs": [
    {
     "name": "stdout",
     "output_type": "stream",
     "text": [
      "[(3.3915389167665497e-16+1.232595164407831e-32j), (-2.9744704982847267e-16+0j), (0.03350041368950822+0j), (-3.391538916766543e-16+1.494521636844495e-31j), (2.974470498284723e-16-2.9582283945787943e-31j), (-0.03350041368950797+0j)]\n"
     ]
    }
   ],
   "source": [
    "f_op_eval=[]\n",
    "for force in f_op:\n",
    "    if len(force.terms)==0:\n",
    "        f_op_eval.append(0.)\n",
    "    else:\n",
    "        f_op_eval.append(of.expectation(of.get_sparse_operator(force), eigv))\n",
    "print(f_op_eval)\n",
    "f_op_eval = [val.real if np.abs(val) > 1e-8 else 0 for val in f_op_eval]"
   ]
  },
  {
   "cell_type": "markdown",
   "metadata": {},
   "source": [
    "How do the numerical and analytical result for Hellman-Feynman compare? Can you improve the agreement? \n",
    "\n",
    "Are the Pulay terms negligible?"
   ]
  },
  {
   "cell_type": "code",
   "execution_count": 14,
   "metadata": {},
   "outputs": [
    {
     "name": "stdout",
     "output_type": "stream",
     "text": [
      "Hellman-Feynman evaluated through finite differences [8.705475287582261e-16, -7.505472048578799e-16, -0.011280097482221882, -8.705475287582253e-16, 7.505472048578793e-16, 0.011280097367202285]\n",
      "Hellman-Feynman evaluated analytically [0, 0, -0.0059691705428689245, 0, 0, 0.0059691705428693235]\n",
      "Full force evaluated analytically [0, 0, 0.03350041368950822, 0, 0, -0.03350041368950797]\n"
     ]
    }
   ],
   "source": [
    "print(\"Hellman-Feynman evaluated through finite differences {}\".format(f_eval))\n",
    "print(\"Hellman-Feynman evaluated analytically {}\".format(f_op_hf_eval))\n",
    "print(\"Full force evaluated analytically {}\".format(f_op_eval))\n"
   ]
  },
  {
   "cell_type": "markdown",
   "metadata": {},
   "source": [
    "Most qchem packages have a method to perform analytical gradients without going over operators. For this system, a CASSCF(6,4) calculation is equivalent to FCI and we can obtain the analytical gradient in a different way."
   ]
  },
  {
   "cell_type": "code",
   "execution_count": 15,
   "metadata": {},
   "outputs": [
    {
     "name": "stdout",
     "output_type": "stream",
     "text": [
      "CASSCF energy = -7.87845365227714\n",
      "CASCI E = -7.87845365227714  E(CI) = -9.01240481853429  S^2 = 0.0000000\n",
      "--------------- CASSCF gradients ---------------\n",
      "         x                y                z\n",
      "0 Li    -0.0000000000    -0.0000000000     0.0335004137\n",
      "1 H     0.0000000000     0.0000000000    -0.0335004137\n",
      "----------------------------------------------\n"
     ]
    },
    {
     "data": {
      "text/plain": [
       "array([[-5.95066413e-18, -6.30267332e-18,  3.35004137e-02],\n",
       "       [ 5.95066413e-18,  6.30267332e-18, -3.35004137e-02]])"
      ]
     },
     "execution_count": 15,
     "metadata": {},
     "output_type": "execute_result"
    }
   ],
   "source": [
    "fci = mcscf.CASSCF(mf, 6, 4).run()\n",
    "fci.nuc_grad_method().kernel()"
   ]
  },
  {
   "cell_type": "markdown",
   "metadata": {},
   "source": [
    "# Difference with and without Pulay terms\n",
    "The Pulay terms stem from the fact that Gaussian basis functions are centered at the nucle. In principle, the Pulay terms should disappear when the basis size approaches the basis set limit. We'll use correlation consistent basis functions to systematically increase the basis size. We can no longer use FCI for the expectation values here and will construct the RHF rdm to do that. The calculation of the integrals for the derivatives might take a while."
   ]
  },
  {
   "cell_type": "code",
   "execution_count": 16,
   "metadata": {},
   "outputs": [
    {
     "name": "stdout",
     "output_type": "stream",
     "text": [
      "converged SCF energy = -7.8605386610207\n",
      "For 6 spatial orbitals, the pulay forces have norm 0.06958084721938283\n",
      "converged SCF energy = -7.97072364400739\n",
      "For 11 spatial orbitals, the pulay forces have norm 0.036581788498768995\n",
      "converged SCF energy = -7.97804025395656\n",
      "For 16 spatial orbitals, the pulay forces have norm 0.041024551214650797\n"
     ]
    }
   ],
   "source": [
    "for basis in ['sto-3g', '6-31g', '6-311g']:\n",
    "    mymol = pyscf.gto.M(\n",
    "        atom = '''Li 0 0 0; H 0 0 1.4''',\n",
    "        basis = basis)\n",
    "\n",
    "    mymol.build()\n",
    "    mf = pyscf.scf.RHF(mymol)\n",
    "    mf.kernel()\n",
    "    molecule = of.MolecularData(geometry=mymol.atom, basis=mymol.basis,\n",
    "                                charge=0, multiplicity=1)\n",
    "    molecule = run_pyscf(molecule)\n",
    "    oei, tei = molecule.get_integrals()\n",
    "    f_op = gradient_mo_operator(mymol, mf.mo_coeff, oei, tei)\n",
    "    f_op_hf = gradient_mo_operator(mymol, mf.mo_coeff, oei, tei, with_pulay=False)\n",
    "    opdm = np.diag([1] * mymol.nelectron + [0] * (2 * mymol.nao - mymol.nelectron))\n",
    "    tpdm = 2 * of.wedge(opdm, opdm, (1, 1), (1, 1))\n",
    "    rdms = of.InteractionRDM(opdm, tpdm)\n",
    "    vector_expectation = np.vectorize(rdms.expectation)\n",
    "    f_op_eval = vector_expectation(f_op).real\n",
    "    f_op_hf_eval = vector_expectation(f_op_hf).real\n",
    "    print(f\"For {mymol.nao} spatial orbitals, the pulay forces have norm { np.linalg.norm(f_op_eval-f_op_hf_eval)}\")"
   ]
  },
  {
   "cell_type": "markdown",
   "metadata": {},
   "source": [
    "What is your conclusion? "
   ]
  },
  {
   "cell_type": "markdown",
   "metadata": {},
   "source": [
    "Extra excercise: Apply one of the Izmaylov group's grouping methods to see how the performance is for forces."
   ]
  },
  {
   "cell_type": "code",
   "execution_count": null,
   "metadata": {},
   "outputs": [],
   "source": []
  }
 ],
 "metadata": {
  "kernelspec": {
   "display_name": "Python 3",
   "language": "python",
   "name": "python3"
  },
  "language_info": {
   "codemirror_mode": {
    "name": "ipython",
    "version": 3
   },
   "file_extension": ".py",
   "mimetype": "text/x-python",
   "name": "python",
   "nbconvert_exporter": "python",
   "pygments_lexer": "ipython3",
   "version": "3.7.4"
  }
 },
 "nbformat": 4,
 "nbformat_minor": 5
}
